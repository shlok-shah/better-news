{
 "cells": [
  {
   "cell_type": "code",
   "execution_count": null,
   "id": "51316f55",
   "metadata": {},
   "outputs": [
    {
     "name": "stderr",
     "output_type": "stream",
     "text": [
      "Exception in thread Thread-6 (build):\n",
      "Traceback (most recent call last):\n",
      "  File \"C:\\Users\\Shlok\\AppData\\Local\\Programs\\Python\\Python310\\lib\\threading.py\", line 1016, in _bootstrap_inner\n",
      "    self.run()\n",
      "  File \"c:\\Users\\Shlok\\Projects 2.0\\BetterNews\\.venv\\lib\\site-packages\\ipykernel\\ipkernel.py\", line 772, in run_closure\n",
      "    _threading_Thread_run(self)\n",
      "  File \"C:\\Users\\Shlok\\AppData\\Local\\Programs\\Python\\Python310\\lib\\threading.py\", line 953, in run\n",
      "    self._target(*self._args, **self._kwargs)\n",
      "  File \"c:\\Users\\Shlok\\Projects 2.0\\BetterNews\\.venv\\lib\\site-packages\\newspaper\\source.py\", line 186, in build\n",
      "    self.download()\n",
      "  File \"c:\\Users\\Shlok\\Projects 2.0\\BetterNews\\.venv\\lib\\site-packages\\newspaper\\source.py\", line 288, in download\n",
      "    self.html = network.get_html(self.url, self.config)\n",
      "  File \"c:\\Users\\Shlok\\Projects 2.0\\BetterNews\\.venv\\lib\\site-packages\\newspaper\\network.py\", line 242, in get_html\n",
      "    raise ArticleException(\n",
      "newspaper.exceptions.ArticleException: Http error when downloading https://foxnews.com. Status code: {status_code}\n",
      "c:\\Users\\Shlok\\Projects 2.0\\BetterNews\\.venv\\lib\\site-packages\\dateutil\\parser\\_parser.py:1207: UnknownTimezoneWarning: tzname PDT identified but not understood.  Pass `tzinfos` argument in order to correctly return a timezone-aware datetime.  In a future version, this will raise an exception.\n",
      "  warnings.warn(\"tzname {tzname} identified but not understood.  \"\n",
      "c:\\Users\\Shlok\\Projects 2.0\\BetterNews\\.venv\\lib\\site-packages\\dateutil\\parser\\_parser.py:1207: UnknownTimezoneWarning: tzname MDT identified but not understood.  Pass `tzinfos` argument in order to correctly return a timezone-aware datetime.  In a future version, this will raise an exception.\n",
      "  warnings.warn(\"tzname {tzname} identified but not understood.  \"\n"
     ]
    }
   ],
   "source": [
    "from newspaper import Source\n",
    "from newspaper.mthreading import fetch_news\n",
    "import threading\n",
    "\n",
    "class NewsCrawler:\n",
    "\n",
    "    def __init__(self, source_urls, config=None):\n",
    "        self.sources = [Source(url, config=config) for url in source_urls]\n",
    "        self.articles = []\n",
    "\n",
    "    def build_sources(self):\n",
    "        # Multithreaded source building\n",
    "        threads = [threading.Thread(target=source.build) for source in self.sources]\n",
    "        for thread in threads:\n",
    "            thread.start()\n",
    "        for thread in threads:\n",
    "            thread.join()\n",
    "\n",
    "    def crawl_articles(self):\n",
    "        # Multithreaded article downloading\n",
    "        self.articles = fetch_news(self.sources, threads=4)\n",
    "\n",
    "    def extract_information(self):\n",
    "        # Extract information from each article\n",
    "        for source in self.sources:\n",
    "            print(f\"Source {source.url}\")\n",
    "            for article in source.articles[:10]:\n",
    "                article.parse()\n",
    "                print(f\"Title: {article.title}\")\n",
    "                print(f\"Authors: {article.authors}\")\n",
    "                print(f\"Text: {article.text[:150]}...\")  # Printing first 150 characters of text\n",
    "                print(\"-------------------------------\")\n",
    "\n",
    "source_urls = ['https://cnn.com', 'https://foxnews.com']  # Add your news source URLs here\n",
    "crawler = NewsCrawler(source_urls)\n",
    "crawler.build_sources()\n",
    "crawler.crawl_articles()\n",
    "crawler.extract_information()\n"
   ]
  }
 ],
 "metadata": {
  "kernelspec": {
   "display_name": ".venv",
   "language": "python",
   "name": "python3"
  },
  "language_info": {
   "codemirror_mode": {
    "name": "ipython",
    "version": 3
   },
   "file_extension": ".py",
   "mimetype": "text/x-python",
   "name": "python",
   "nbconvert_exporter": "python",
   "pygments_lexer": "ipython3",
   "version": "3.10.7"
  }
 },
 "nbformat": 4,
 "nbformat_minor": 5
}
