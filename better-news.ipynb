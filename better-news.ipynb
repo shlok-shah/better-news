{
 "cells": [
  {
   "cell_type": "code",
   "execution_count": null,
   "id": "2a09fbe1",
   "metadata": {},
   "outputs": [],
   "source": [
    "from gnews import GNews\n",
    "import newspaper\n",
    "from googlenewsdecoder import gnewsdecoder\n",
    "\n",
    "\n",
    "google_news = GNews(\n",
    "    language='en',\n",
    "    country='US',\n",
    "    period='1d',\n",
    "    start_date=None,\n",
    "    end_date=None,\n",
    "    max_results=20,\n",
    "    exclude_websites=['www.hindustantimes.com', 'www.livemint.com', 'www.reuters.com', 'www.timesnownews.com']\n",
    ")\n",
    "\n",
    "top_news = google_news.get_news_by_topic(\"POLITICS\");"
   ]
  },
  {
   "cell_type": "code",
   "execution_count": null,
   "id": "93ccaf2d",
   "metadata": {},
   "outputs": [],
   "source": [
    "article_urls = []\n",
    "for news in top_news:\n",
    "    try:\n",
    "        decoded_url = gnewsdecoder(news['url'])\n",
    "        if decoded_url.get(\"status\"):\n",
    "            print(\"Decoded URL:\", decoded_url[\"decoded_url\"])\n",
    "            article_urls.append(decoded_url['decoded_url'])\n",
    "        else:\n",
    "            print(\"Error:\", decoded_url[\"message\"])\n",
    "    except Exception as e:\n",
    "        print(f\"Error occurred: {e}\")"
   ]
  },
  {
   "cell_type": "code",
   "execution_count": null,
   "id": "377486de",
   "metadata": {},
   "outputs": [],
   "source": [
    "from newspaper.mthreading import fetch_news \n",
    "\n",
    "try:\n",
    "    results = fetch_news(article_urls, threads=4)\n",
    "except:\n",
    "    print(\"ERROR\")"
   ]
  },
  {
   "cell_type": "code",
   "execution_count": null,
   "id": "86489c23",
   "metadata": {},
   "outputs": [],
   "source": [
    "for article in results:  \n",
    "    print(article.url)\n",
    "    print(article.title)\n",
    "    print(article.text_cleaned[:300])\n",
    "    print('--------------------')"
   ]
  },
  {
   "cell_type": "code",
   "execution_count": null,
   "id": "90ac0f3b",
   "metadata": {},
   "outputs": [],
   "source": [
    "article_titles = []\n",
    "for article in results:\n",
    "    article_titles.append(article.title);"
   ]
  },
  {
   "cell_type": "code",
   "execution_count": null,
   "id": "2121f54b",
   "metadata": {},
   "outputs": [],
   "source": [
    "from sentence_transformers import SentenceTransformer\n",
    "from sklearn.metrics.pairwise import cosine_similarity\n",
    "import networkx as nx\n",
    "import numpy as np\n",
    "\n",
    "# 1. Load BERT model\n",
    "model = SentenceTransformer('all-mpnet-base-v2')\n",
    "\n",
    "# 2. Compute embeddings\n",
    "def get_article_embedding(article, max_chars=400):\n",
    "    text = article.text[:max_chars]\n",
    "    title = article.title\n",
    "\n",
    "    total = title + \" \" + text\n",
    "    return model.encode(total)\n",
    "\n",
    "embeddings = [get_article_embedding(article) for article in results]\n",
    "\n",
    "# 3. Compute cosine similarity matrix\n",
    "similarity_matrix = cosine_similarity(embeddings)\n",
    "\n",
    "# 4. Create graph based on similarity threshold\n",
    "threshold = 0.655\n",
    "G = nx.Graph()\n",
    "\n",
    "# Add nodes\n",
    "G.add_nodes_from(range(len(results)))\n",
    "\n",
    "# Add edges where similarity > threshold\n",
    "for i in range(len(results)):\n",
    "    for j in range(i + 1, len(results)):\n",
    "        if similarity_matrix[i][j] > threshold:\n",
    "            G.add_edge(i, j)\n",
    "\n",
    "# 5. Find connected components (clusters)\n",
    "components = list(nx.connected_components(G))\n",
    "\n",
    "# 6. Print clusters\n",
    "for idx, cluster in enumerate(components):\n",
    "    print(f\"\\nCluster {idx + 1}:\")\n",
    "    for i in sorted(cluster):\n",
    "        print(f\"  - {article_titles[i]}\")\n"
   ]
  },
  {
   "cell_type": "code",
   "execution_count": null,
   "id": "80dab09d",
   "metadata": {},
   "outputs": [],
   "source": [
    "import matplotlib.pyplot as plt\n",
    "\n",
    "# Create graph and add edges above threshold\n",
    "G = nx.Graph()\n",
    "G.add_nodes_from(range(len(results)))\n",
    "\n",
    "for i in range(len(results)):\n",
    "    for j in range(i + 1, len(results)):\n",
    "        if similarity_matrix[i][j] > threshold:\n",
    "            G.add_edge(i, j, weight=similarity_matrix[i][j])\n",
    "\n",
    "# Find connected components (clusters)\n",
    "components = list(nx.connected_components(G))\n",
    "node_colors = {}\n",
    "for idx, comp in enumerate(components):\n",
    "    for node in comp:\n",
    "        node_colors[node] = idx\n",
    "\n",
    "# Assign color to each node\n",
    "color_list = [node_colors.get(i, -1) for i in range(len(results))]\n",
    "\n",
    "# Plot the graph\n",
    "plt.figure(figsize=(12, 8))\n",
    "pos = nx.spring_layout(G, seed=42, k=0.8)\n",
    "\n",
    "nx.draw_networkx_nodes(G, pos, node_size=500, cmap=plt.cm.tab10, \n",
    "                       node_color=color_list, alpha=0.9)\n",
    "nx.draw_networkx_edges(G, pos, alpha=0.3)\n",
    "\n",
    "# Optionally use short labels\n",
    "labels = {i: article_titles[i][:30] + \"...\" for i in G.nodes}\n",
    "nx.draw_networkx_labels(G, pos, labels=labels, font_size=8)\n",
    "\n",
    "plt.title(\"News Article Similarity Graph\", fontsize=14)\n",
    "plt.axis('off')\n",
    "plt.show()"
   ]
  }
 ],
 "metadata": {
  "kernelspec": {
   "display_name": ".venv",
   "language": "python",
   "name": "python3"
  },
  "language_info": {
   "codemirror_mode": {
    "name": "ipython",
    "version": 3
   },
   "file_extension": ".py",
   "mimetype": "text/x-python",
   "name": "python",
   "nbconvert_exporter": "python",
   "pygments_lexer": "ipython3",
   "version": "3.10.7"
  }
 },
 "nbformat": 4,
 "nbformat_minor": 5
}
